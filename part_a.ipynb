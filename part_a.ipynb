{
 "cells": [
  {
   "cell_type": "markdown",
   "metadata": {},
   "source": [
    "# Part A"
   ]
  },
  {
   "cell_type": "markdown",
   "metadata": {},
   "source": [
    "The following Python function checks whether a string is a palindrome. Please explain, in 250 words or less, how you'd improve this code and why. We’re not looking for a simple one-line rewrite here - submissions will be graded based on the clarity by which you describe what the improvements are, and also WHY they should be made."
   ]
  },
  {
   "cell_type": "code",
   "execution_count": 6,
   "metadata": {},
   "outputs": [],
   "source": [
    "def is_palindrone(s):\n",
    "    r=\"\"\n",
    "    for c in s:\n",
    "        r = c +r\n",
    "    for x in range(0, len(s)):\n",
    "        if s[x] == r[x]:\n",
    "            x = True\n",
    "        else:\n",
    "            return False\n",
    "    return x"
   ]
  },
  {
   "cell_type": "markdown",
   "metadata": {},
   "source": [
    "At first glance, I would improve this function by using more descriptive variable names. Single character variable names like 'c', 'r', 'x', etc. do not provide much meaning and make the code difficult to read. I also would not use the same variable 'x' as an index for the loop and to store the return value if the characters match.\n",
    "\n",
    "In terms of the implementation, this function stores a reversed copy of the string. While this works, the efficiency could be improved. The runtime complexity of this function is O(2n) and the space complexity is O(n). This could be improved using a different approach that does not store a reversed string.\n",
    "\n",
    "I would use a two pointers approach and return false as soon as the characters do not match. This would improve the efficiency since the function would only iterate through the entire string if the string is a valid palindrome. The runtime complexity of this approach is O(n) and the space complexity is O(1).\n",
    "\n",
    "Here is my implementation:"
   ]
  },
  {
   "cell_type": "code",
   "execution_count": 9,
   "metadata": {},
   "outputs": [],
   "source": [
    "def is_palindrome(s):    \n",
    "    left = 0\n",
    "    right = len(s)-1\n",
    "    \n",
    "    while left <= right:\n",
    "        if s[left] != s[right]:\n",
    "            return False\n",
    "        else:\n",
    "            left += 1\n",
    "            right -= 1\n",
    "    \n",
    "    return True"
   ]
  }
 ],
 "metadata": {
  "kernelspec": {
   "display_name": "Python 3",
   "language": "python",
   "name": "python3"
  },
  "language_info": {
   "codemirror_mode": {
    "name": "ipython",
    "version": 3
   },
   "file_extension": ".py",
   "mimetype": "text/x-python",
   "name": "python",
   "nbconvert_exporter": "python",
   "pygments_lexer": "ipython3",
   "version": "3.7.6"
  }
 },
 "nbformat": 4,
 "nbformat_minor": 4
}
