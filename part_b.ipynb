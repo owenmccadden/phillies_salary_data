{
 "cells": [
  {
   "cell_type": "markdown",
   "metadata": {},
   "source": [
    "# Part B"
   ]
  },
  {
   "cell_type": "markdown",
   "metadata": {},
   "source": [
    "In baseball, a team can provide a departing free agent player with a qualifying offer1: a one-year contract whose monetary value is the average of the 125 highest salaries from the past season. The player is free to reject it and sign with any other team, but his new team will have to forfeit a draft pick.\n",
    "\n",
    "Use the provided dataset to write a program or application that determines the monetary value of the upcoming qualifying offer and displays the amount along with any other relevant information or visualizations to the user. Note that while the URL and general format of the data will be consistent, the data itself can change slightly with each page load, so make sure your code pulls the data each time it is run and expect the final result to change each time.\n",
    "\n",
    "You should submit a link or file containing your response to the question, including all source code. The link or file should contain a README that contains clear, step-by-step instructions for how to run or access your response.\n",
    "\n",
    "Submissions will be graded on accuracy, readability, reproducibility, error handling and presentation of the result to the user. Use of online resources such as Stack Overflow is encouraged, but please cite (by including a comment in your code with a link to the resource) any answers used and provide comments on your particular implementation if appropriate. Use of open-source/third-party libraries is encouraged.\n",
    "\n",
    "Data: https://questionnaire-148920.appspot.com/swe/data.html\n",
    "\n",
    "Tip: As is often the case, the data sometimes contains corrupted or malformed values. Do your best to handle these and feel free to ignore missing values, but make sure they don’t interfere with the calculation or presentation of the final result.\n",
    "\n",
    "Some details of the rules have changed, but we will use the old rules for simplicity\n",
    "\n"
   ]
  },
  {
   "cell_type": "code",
   "execution_count": 5,
   "metadata": {},
   "outputs": [],
   "source": [
    "import pandas as pd\n",
    "import re\n",
    "import matplotlib.pyplot as plt\n",
    "from collections import defaultdict"
   ]
  },
  {
   "cell_type": "code",
   "execution_count": 6,
   "metadata": {},
   "outputs": [],
   "source": [
    "def extract():\n",
    "    url = \"https://questionnaire-148920.appspot.com/swe/data.html\"\n",
    "    dfs = pd.read_html(url)    \n",
    "    df = dfs[0]\n",
    "    return df"
   ]
  },
  {
   "cell_type": "code",
   "execution_count": 7,
   "metadata": {},
   "outputs": [],
   "source": [
    "def clean(salary_data):\n",
    "    clean_data = []\n",
    "\n",
    "    for i in range(len(salary_data)):\n",
    "        if salary_data[i] == 'no salary data' or pd.isna(salary_data[i]):\n",
    "            continue\n",
    "        temp = [x[0] for x in re.findall('(\\$[0-9]+(\\.[0-9]+)?)', df['Salary'][i].replace(',', ''))]\n",
    "        if len(temp) == 0:\n",
    "            temp = [salary_data[i]]\n",
    "        if temp[0][0] != '$':\n",
    "            clean_data.append(int(temp[0]))\n",
    "        else:\n",
    "            clean_data.append(int(temp[0][1:]))\n",
    "\n",
    "    clean_data.sort(reverse=True)\n",
    "    \n",
    "    return clean_data"
   ]
  },
  {
   "cell_type": "code",
   "execution_count": 8,
   "metadata": {},
   "outputs": [],
   "source": [
    "def plot_histogram(data):\n",
    "    plt.hist(data)\n",
    "    plt.show()"
   ]
  },
  {
   "cell_type": "code",
   "execution_count": 9,
   "metadata": {},
   "outputs": [],
   "source": [
    "def plot_scatter(data):\n",
    "    unique = defaultdict(int)\n",
    "\n",
    "    for salary in data:\n",
    "        unique[salary] += 1\n",
    "\n",
    "    plt.scatter(*zip(*unique.items()))\n",
    "    plt.show()"
   ]
  },
  {
   "cell_type": "code",
   "execution_count": 12,
   "metadata": {},
   "outputs": [],
   "source": [
    "def compute_average(data):\n",
    "    return sum(data)/len(data)"
   ]
  },
  {
   "cell_type": "code",
   "execution_count": 13,
   "metadata": {},
   "outputs": [],
   "source": [
    "def format_average(avg):\n",
    "    temp = str(avg).split('.')[0][::-1]\n",
    "    output = []\n",
    "    for i in range(len(temp)):\n",
    "        if (i) % 3 == 0 and i != 0:\n",
    "            output.append(',')\n",
    "        output.append(temp[i])\n",
    "    return ''.join(output[::-1])"
   ]
  },
  {
   "cell_type": "code",
   "execution_count": 20,
   "metadata": {},
   "outputs": [],
   "source": [
    "def summarize(data):\n",
    "    plot_histogram(data)\n",
    "    plot_scatter(data)\n",
    "    avg = compute_average(data)\n",
    "    formatted_avg = format_average(avg)\n",
    "    print(\"The average salary for the given dataset is ${}.\".format(formatted_avg))    "
   ]
  },
  {
   "cell_type": "markdown",
   "metadata": {},
   "source": [
    "## Extract and Clean Salary Data"
   ]
  },
  {
   "cell_type": "code",
   "execution_count": 21,
   "metadata": {},
   "outputs": [
    {
     "data": {
      "text/html": [
       "<div>\n",
       "<style scoped>\n",
       "    .dataframe tbody tr th:only-of-type {\n",
       "        vertical-align: middle;\n",
       "    }\n",
       "\n",
       "    .dataframe tbody tr th {\n",
       "        vertical-align: top;\n",
       "    }\n",
       "\n",
       "    .dataframe thead th {\n",
       "        text-align: right;\n",
       "    }\n",
       "</style>\n",
       "<table border=\"1\" class=\"dataframe\">\n",
       "  <thead>\n",
       "    <tr style=\"text-align: right;\">\n",
       "      <th></th>\n",
       "      <th>Player</th>\n",
       "      <th>Salary</th>\n",
       "      <th>Year</th>\n",
       "      <th>Level</th>\n",
       "    </tr>\n",
       "  </thead>\n",
       "  <tbody>\n",
       "    <tr>\n",
       "      <th>0</th>\n",
       "      <td>Abreu, Jose</td>\n",
       "      <td>$11,666,667</td>\n",
       "      <td>2016</td>\n",
       "      <td>MLB</td>\n",
       "    </tr>\n",
       "    <tr>\n",
       "      <th>1</th>\n",
       "      <td>Acevedo, Andury</td>\n",
       "      <td>$507,500</td>\n",
       "      <td>2016</td>\n",
       "      <td>MLB</td>\n",
       "    </tr>\n",
       "    <tr>\n",
       "      <th>2</th>\n",
       "      <td>Ackley, Dustin</td>\n",
       "      <td>$3,200,000</td>\n",
       "      <td>2016</td>\n",
       "      <td>MLB</td>\n",
       "    </tr>\n",
       "    <tr>\n",
       "      <th>3</th>\n",
       "      <td>Adames, Cristhian</td>\n",
       "      <td>$507,500</td>\n",
       "      <td>2016</td>\n",
       "      <td>MLB</td>\n",
       "    </tr>\n",
       "    <tr>\n",
       "      <th>4</th>\n",
       "      <td>Adams, Austin</td>\n",
       "      <td>$507,500</td>\n",
       "      <td>2016</td>\n",
       "      <td>MLB</td>\n",
       "    </tr>\n",
       "    <tr>\n",
       "      <th>...</th>\n",
       "      <td>...</td>\n",
       "      <td>...</td>\n",
       "      <td>...</td>\n",
       "      <td>...</td>\n",
       "    </tr>\n",
       "    <tr>\n",
       "      <th>1203</th>\n",
       "      <td>Zimmerman, Ryan</td>\n",
       "      <td>$14,000,000</td>\n",
       "      <td>2016</td>\n",
       "      <td>MLB</td>\n",
       "    </tr>\n",
       "    <tr>\n",
       "      <th>1204</th>\n",
       "      <td>Zimmermann, Jordan</td>\n",
       "      <td>$18,000,000</td>\n",
       "      <td>2016</td>\n",
       "      <td>MLB</td>\n",
       "    </tr>\n",
       "    <tr>\n",
       "      <th>1205</th>\n",
       "      <td>Zobrist, Ben</td>\n",
       "      <td>$10,500,000</td>\n",
       "      <td>2016</td>\n",
       "      <td>MLB</td>\n",
       "    </tr>\n",
       "    <tr>\n",
       "      <th>1206</th>\n",
       "      <td>Zunino, Mike</td>\n",
       "      <td>$507,500</td>\n",
       "      <td>2016</td>\n",
       "      <td>MLB</td>\n",
       "    </tr>\n",
       "    <tr>\n",
       "      <th>1207</th>\n",
       "      <td>Zych, Tony</td>\n",
       "      <td>$507,500</td>\n",
       "      <td>2016</td>\n",
       "      <td>MLB</td>\n",
       "    </tr>\n",
       "  </tbody>\n",
       "</table>\n",
       "<p>1208 rows × 4 columns</p>\n",
       "</div>"
      ],
      "text/plain": [
       "                  Player       Salary  Year Level\n",
       "0            Abreu, Jose  $11,666,667  2016   MLB\n",
       "1        Acevedo, Andury     $507,500  2016   MLB\n",
       "2         Ackley, Dustin   $3,200,000  2016   MLB\n",
       "3      Adames, Cristhian     $507,500  2016   MLB\n",
       "4          Adams, Austin     $507,500  2016   MLB\n",
       "...                  ...          ...   ...   ...\n",
       "1203     Zimmerman, Ryan  $14,000,000  2016   MLB\n",
       "1204  Zimmermann, Jordan  $18,000,000  2016   MLB\n",
       "1205        Zobrist, Ben  $10,500,000  2016   MLB\n",
       "1206        Zunino, Mike     $507,500  2016   MLB\n",
       "1207          Zych, Tony     $507,500  2016   MLB\n",
       "\n",
       "[1208 rows x 4 columns]"
      ]
     },
     "execution_count": 21,
     "metadata": {},
     "output_type": "execute_result"
    }
   ],
   "source": [
    "df = extract()\n",
    "df"
   ]
  },
  {
   "cell_type": "code",
   "execution_count": 22,
   "metadata": {},
   "outputs": [],
   "source": [
    "salary_data = df['Salary']\n",
    "clean_data = clean(salary_data)\n",
    "top_125_salaries = clean_data[:125]\n",
    "\n",
    "top_125_avg = compute_average(top_125_salaries)\n",
    "formatted_top_125_avg = format_average(top_125_avg)"
   ]
  },
  {
   "cell_type": "markdown",
   "metadata": {},
   "source": [
    "## Top 125 Salaries"
   ]
  },
  {
   "cell_type": "code",
   "execution_count": 23,
   "metadata": {},
   "outputs": [
    {
     "data": {
      "image/png": "[encoded data removed]",
      "text/plain": [
       "<Figure size 432x288 with 1 Axes>"
      ]
     },
     "metadata": {
      "needs_background": "light"
     },
     "output_type": "display_data"
    },
    {
     "data": {
      "image/png": "[encoded data removed]",
      "text/plain": [
       "<Figure size 432x288 with 1 Axes>"
      ]
     },
     "metadata": {
      "needs_background": "light"
     },
     "output_type": "display_data"
    },
    {
     "name": "stdout",
     "output_type": "stream",
     "text": [
      "The average salary for the given dataset is $16,655,394.\n"
     ]
    }
   ],
   "source": [
    "summarize(top_125_salaries)"
   ]
  },
  {
   "cell_type": "code",
   "execution_count": 24,
   "metadata": {},
   "outputs": [
    {
     "name": "stdout",
     "output_type": "stream",
     "text": [
      "The monetary value of the upcoming qualifying offer is $16,655,394.\n"
     ]
    }
   ],
   "source": [
    "print(\"The monetary value of the upcoming qualifying offer is ${}.\".format(formatted_top_125_avg))"
   ]
  },
  {
   "cell_type": "markdown",
   "metadata": {},
   "source": [
    "## Entire Salary Distribution"
   ]
  },
  {
   "cell_type": "code",
   "execution_count": 25,
   "metadata": {},
   "outputs": [
    {
     "data": {
      "image/png": "[encoded data removed]",
      "text/plain": [
       "<Figure size 432x288 with 1 Axes>"
      ]
     },
     "metadata": {
      "needs_background": "light"
     },
     "output_type": "display_data"
    },
    {
     "data": {
      "image/png": "[encoded data removed]",
      "text/plain": [
       "<Figure size 432x288 with 1 Axes>"
      ]
     },
     "metadata": {
      "needs_background": "light"
     },
     "output_type": "display_data"
    },
    {
     "name": "stdout",
     "output_type": "stream",
     "text": [
      "The average salary for the given dataset is $3,320,845.\n"
     ]
    }
   ],
   "source": [
    "summarize(clean_data)"
   ]
  },
  {
   "cell_type": "code",
   "execution_count": null,
   "metadata": {},
   "outputs": [],
   "source": []
  }
 ],
 "metadata": {
  "kernelspec": {
   "display_name": "Python 3",
   "language": "python",
   "name": "python3"
  },
  "language_info": {
   "codemirror_mode": {
    "name": "ipython",
    "version": 3
   },
   "file_extension": ".py",
   "mimetype": "text/x-python",
   "name": "python",
   "nbconvert_exporter": "python",
   "pygments_lexer": "ipython3",
   "version": "3.7.6"
  }
 },
 "nbformat": 4,
 "nbformat_minor": 4
}
